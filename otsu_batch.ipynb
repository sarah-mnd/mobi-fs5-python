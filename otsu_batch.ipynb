{
 "cells": [
  {
   "cell_type": "markdown",
   "metadata": {},
   "source": [
    "# [Lab Session 2](otsu.ipynb)"
   ]
  },
  {
   "cell_type": "code",
   "execution_count": 2,
   "metadata": {},
   "outputs": [],
   "source": [
    "import numpy as np\n",
    "import matplotlib.pyplot as plt"
   ]
  },
  {
   "cell_type": "markdown",
   "metadata": {},
   "source": [
    "**[Task 2.1.]()** Implement Otsu thresholding as a re-usable function:"
   ]
  },
  {
   "cell_type": "code",
   "execution_count": 3,
   "metadata": {},
   "outputs": [],
   "source": [
    "def otsu_thresholding(imgf):\n",
    "    img8 = (imgf * 255).round().astype(np.uint8)\n",
    "    min_otsu_value = float('inf')\n",
    "    optimal_T = 0\n",
    "    variances = [] #gewichtete Varianzen für jedes T\n",
    "    T_values = range(255) #alle möglichen Schwellenwerte\n",
    "\n",
    "    for T in range(255):\n",
    "        class_1 = img8[img8 < T] #Pixel Hintergrund\n",
    "        class_2 = img8[img8 >= T] #Pixel Vordergrund\n",
    "        var_class_1 = np.var(class_1) if len(class_1) > 0 else 0 #Varianz Klasse 1, wenn List leer, auf 0 gesetzt\n",
    "        var_class_2 = np.var(class_2) if len(class_2) > 0 else 0 #Varianz Klasse 2\n",
    "        weighted_var = len(class_1) * var_class_1 + len(class_2) * var_class_2 #berechnet die Varianz mit dem gewählten T\n",
    "        \n",
    "        variances.append(weighted_var)\n",
    "\n",
    "        if weighted_var < min_otsu_value:\n",
    "            min_otsu_value = weighted_var #speichert die niedrigste Varianz von allen getesteten T\n",
    "            optimal_T = T #speichert T der niedrigsten Varianz\n",
    "    print(\"optimal threshold: \", optimal_T) #gibt den optimalen Schwellenwert nach Otsu aus\n",
    "    seg = np.where(img8 >= optimal_T, 255, 0).astype(np.uint8)\n",
    "    return seg"
   ]
  },
  {
   "cell_type": "markdown",
   "metadata": {},
   "source": [
    "**[Task 2.2.]()** Implement a re-usable function to compute the Dice coefficient:"
   ]
  },
  {
   "cell_type": "code",
   "execution_count": 4,
   "metadata": {},
   "outputs": [],
   "source": [
    "def compute_dice(bin1, bin2):\n",
    "    assert bin1.dtype == bool\n",
    "    assert bin2.dtype == bool\n",
    "    G = bin1 > 0\n",
    "    H = bin2 > 0\n",
    "    G_and_H = G * H\n",
    "    dice = 2 * (G_and_H.sum()) / (G.sum()+ H.sum())\n",
    "    #print(\"Dice Coefficient = \", dice)\n",
    "    #print(\"Dice Coefficient = 1 -> perfect overlap\")\n",
    "    #print(\"Dice Coefficient = 0 -> no overlap\")\n",
    "    \n",
    "    return dice"
   ]
  },
  {
   "cell_type": "markdown",
   "metadata": {},
   "source": [
    "**[Task 2.3.]()** Test your implementations from above:"
   ]
  },
  {
   "cell_type": "code",
   "execution_count": 5,
   "metadata": {},
   "outputs": [
    {
     "name": "stdout",
     "output_type": "stream",
     "text": [
      "optimal threshold:  31\n"
     ]
    }
   ],
   "source": [
    "imgf = plt.imread('data/NIH3T3/im/dna-0.png')\n",
    "ground_truth = plt.imread('data/NIH3T3/gt/0.png')\n",
    "seg = otsu_thresholding(imgf);\n",
    "imgf_bin = seg.astype(bool)\n",
    "ground_truth_bin = (ground_truth > 0).astype(bool)\n",
    "dice = compute_dice(imgf_bin, ground_truth_bin)\n"
   ]
  },
  {
   "cell_type": "markdown",
   "metadata": {},
   "source": [
    "The result should be the same as in your [otsu.ipynb](otsu.ipynb) notebook."
   ]
  },
  {
   "cell_type": "markdown",
   "metadata": {},
   "source": [
    "**[Task 2.4.]()** Perform batch processing:"
   ]
  },
  {
   "cell_type": "code",
   "execution_count": 7,
   "metadata": {},
   "outputs": [
    {
     "name": "stdout",
     "output_type": "stream",
     "text": [
      "optimal threshold:  35\n",
      "Image 28: Dice coefficient = 0.182315\n",
      "optimal threshold:  41\n",
      "Image 29: Dice coefficient = 0.117934\n",
      "optimal threshold:  71\n",
      "Image 33: Dice coefficient = 0.143158\n",
      "optimal threshold:  67\n",
      "Image 44: Dice coefficient = 0.233002\n",
      "optimal threshold:  75\n",
      "Image 46: Dice coefficient = 0.121535\n",
      "optimal threshold:  46\n",
      "Image 49: Dice coefficient = 0.178306\n",
      "mean Dice coefficient for all images:  0.16270835288218113\n"
     ]
    }
   ],
   "source": [
    "# 4. Write a for-loop which iterates the sequence i = 28,29,33,44,46,49 and\n",
    "indices = [28,29,33,44,46,49]\n",
    "dice_scores = []\n",
    "for i in indices:\n",
    "    image = plt.imread(f'data/NIH3T3/im/dna-{i}.png') #(a) loads the i-th image via plt.imread(f’data/NIH3T3/im/dna-{i}.png’)\n",
    "    #plt.figure(figsize=(5,3))\n",
    "    #plt.imshow(image);\n",
    "    gound_truth = plt.imread(f'data/NIH3T3/gt/{i}.png') #(b) loads the corresponding ground truth from f’data/NIH3T3/gt/{i}.png’\n",
    "    segm = otsu_thresholding(image) #(c) performs Otsu thresholding\n",
    "    img_bin = segm.astype(bool)\n",
    "    gt_bin = (ground_truth > 0).astype(bool)\n",
    "    dice_ = compute_dice(img_bin, gt_bin)  #(d) computes the Dice coefficient of the segmentation result\n",
    "    dice_scores.append(dice_) #speichert Dice Werte\n",
    "    print(f'Image {i}: Dice coefficient = {dice_:4f}') #The Dice coefficient should be printed for each image. \n",
    "mean_dice = np.mean(dice_scores)\n",
    "print('mean Dice coefficient for all images: ', mean_dice)\n",
    " #In addition, compute and print the mean Dice coefficient for all images."
   ]
  }
 ],
 "metadata": {
  "kernelspec": {
   "display_name": "Python 3",
   "language": "python",
   "name": "python3"
  },
  "language_info": {
   "codemirror_mode": {
    "name": "ipython",
    "version": 3
   },
   "file_extension": ".py",
   "mimetype": "text/x-python",
   "name": "python",
   "nbconvert_exporter": "python",
   "pygments_lexer": "ipython3",
   "version": "3.12.7"
  }
 },
 "nbformat": 4,
 "nbformat_minor": 4
}
